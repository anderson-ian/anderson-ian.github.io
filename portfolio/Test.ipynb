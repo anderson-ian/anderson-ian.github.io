{
  "nbformat": 4,
  "nbformat_minor": 0,
  "metadata": {
    "colab": {
      "name": "Test.ipynb",
      "provenance": [],
      "collapsed_sections": []
    },
    "kernelspec": {
      "name": "python3",
      "display_name": "Python 3"
    }
  },
  "cells": [
    {
      "cell_type": "code",
      "metadata": {
        "id": "tZoxNRpA5Y9O"
      },
      "source": [
        "#import libraries\n",
        "%matplotlib inline\n",
        "import zipfile # for locations data read\n",
        "import pandas as pd # for dataframes\n",
        "import geopandas as gpd\n",
        "from matplotlib import pyplot as plt"
      ],
      "execution_count": null,
      "outputs": []
    },
    {
      "cell_type": "code",
      "metadata": {
        "id": "6EbjWiD-W8Bw"
      },
      "source": [
        "# load and extract Arlington Street Maps\n",
        "arlstreet = r'/content/drive/My Drive/Maps/BaseMap_wStreetNames_WebMercator.zip'\n",
        "extract = r'/content/drive/My Drive/Maps/'\n",
        "zp = zipfile.ZipFile(arlstreet,mode='r')\n",
        "zp.extractall(path=extract)"
      ],
      "execution_count": null,
      "outputs": []
    },
    {
      "cell_type": "code",
      "metadata": {
        "id": "nGB7oNwi7QwV"
      },
      "source": [
        "# load and extract location JSON libraries\n",
        "#tkout = r'/content/drive/My Drive/Takeout/takeout-20200418T152419Z-001.zip'\n",
        "#extract = r'/content/drive/My Drive/Takeout/'\n",
        "#zp = zipfile.ZipFile(tkout,mode='r')\n",
        "#zp.extractall(path=extract)"
      ],
      "execution_count": null,
      "outputs": []
    },
    {
      "cell_type": "code",
      "metadata": {
        "id": "kp8u1QbN-OiK"
      },
      "source": [
        "# load in Location History json for to explore safety\n",
        "data = r'/content/drive/My Drive/Takeout/Takeout/Location History/Location History.json'\n",
        "df = pd.read_json(data,orient='columns')\n",
        "# normalize the json dictionary\n",
        "df = pd.json_normalize(df['locations'])\n",
        "dft = df"
      ],
      "execution_count": null,
      "outputs": []
    },
    {
      "cell_type": "code",
      "metadata": {
        "id": "NN6LLWkiNM-Q"
      },
      "source": [
        "# determine timestamp types\n",
        "pd.to_datetime(dft.timestampMs,unit='ms').head()\n",
        "# adding the unit argument for ms matches expectation that format is milliseconds\n",
        "\n",
        "#add datetime column\n",
        "dft.insert(0, 'TimeStamp', pd.to_datetime(dft.timestampMs,unit='ms'))"
      ],
      "execution_count": null,
      "outputs": []
    },
    {
      "cell_type": "code",
      "metadata": {
        "id": "cBU7-LLN8Hb0"
      },
      "source": [
        "#fix some bad longitudes\n",
        "dft.loc[dft.longitudeE7 > 0,'longitudeE7'] = dft.loc[dft.longitudeE7 > 0, 'longitudeE7'] * -1\n",
        "\n",
        "#convert latitude and longitude to float\n",
        "dft['latitude'] = dft.latitudeE7 / 10000000\n",
        "dft['longitude'] = dft.longitudeE7 / 10000000"
      ],
      "execution_count": null,
      "outputs": []
    },
    {
      "cell_type": "code",
      "metadata": {
        "id": "0WmB3_AWJHIN"
      },
      "source": [
        "#look at 2020 data after February\n",
        "dfa = dft[(dft.activity.notnull()) & \n",
        "          (dft.TimeStamp.dt.year == 2020) &\n",
        "          (dft.TimeStamp.dt.month > 2)\n",
        "          ].reset_index(drop = True)"
      ],
      "execution_count": null,
      "outputs": []
    },
    {
      "cell_type": "code",
      "metadata": {
        "id": "vNTVjQWiGKFe"
      },
      "source": [
        "#pull Google's top-ranked activity type out of the activity dictionary into it's own field\n",
        "#assumes that the top ranked activity type is representative of an accurate scoring algo\n",
        "dfa['act_type'] = None\n",
        "\n",
        "ctrl = range(len(dfa))\n",
        "\n",
        "for i in ctrl:\n",
        "  for dictionary in dfa[dfa.activity.notnull()].activity.iloc[i]:\n",
        "    if 'activity' in dictionary.keys():\n",
        "      activities = list(dictionary['activity'])\n",
        "      b = list()\n",
        "      for a in activities:\n",
        "        b.append(a.get('type'))\n",
        "      b = b[0]\n",
        "  dfa.at[i, 'act_type'] = b"
      ],
      "execution_count": null,
      "outputs": []
    },
    {
      "cell_type": "code",
      "metadata": {
        "id": "jzx2Dx550Npj"
      },
      "source": [
        "#pickle module just in case\n",
        "import pickle\n",
        "\n",
        "filename = 'activities'\n",
        "outfile = open(filename,'wb')\n",
        "pickle.dump(dfa,outfile)\n",
        "outfile.close()"
      ],
      "execution_count": null,
      "outputs": []
    },
    {
      "cell_type": "code",
      "metadata": {
        "id": "817zwhDb0k4a"
      },
      "source": [
        "#pickle intake\n",
        "import pickle\n",
        "\n",
        "filename = 'activities'\n",
        "infile = open(filename,'rb')\n",
        "new_dict = pickle.load(infile)\n",
        "infile.close()"
      ],
      "execution_count": null,
      "outputs": []
    },
    {
      "cell_type": "code",
      "metadata": {
        "id": "fLiujjOB_VsK",
        "colab": {
          "base_uri": "https://localhost:8080/",
          "height": 87
        },
        "outputId": "8203b1aa-f150-4199-bbbf-9901b85b5ab9"
      },
      "source": [
        "new_dict.columns"
      ],
      "execution_count": null,
      "outputs": [
        {
          "output_type": "execute_result",
          "data": {
            "text/plain": [
              "Index(['TimeStamp', 'timestampMs', 'latitudeE7', 'longitudeE7', 'accuracy',\n",
              "       'activity', 'altitude', 'verticalAccuracy', 'velocity', 'heading',\n",
              "       'latitude', 'longitude', 'act_type'],\n",
              "      dtype='object')"
            ]
          },
          "metadata": {
            "tags": []
          },
          "execution_count": 10
        }
      ]
    },
    {
      "cell_type": "code",
      "metadata": {
        "id": "oIF9U0Bd-2Dx"
      },
      "source": [
        "#get rid of the useless columns\n",
        " ndf = new_dict.drop(['timestampMs', 'latitudeE7', 'longitudeE7', 'accuracy',\n",
        "       'activity', 'altitude', 'verticalAccuracy', 'velocity', 'heading'], axis=1)"
      ],
      "execution_count": null,
      "outputs": []
    },
    {
      "cell_type": "code",
      "metadata": {
        "id": "8d2FrEUlAuQw"
      },
      "source": [
        "#load points to geography dataframe\n",
        "gdf = gpd.GeoDataFrame(\n",
        "    ndf, geometry=gpd.points_from_xy(ndf.longitude, ndf.latitude),crs=4326)"
      ],
      "execution_count": null,
      "outputs": []
    },
    {
      "cell_type": "code",
      "metadata": {
        "id": "3dKZPLz1EQA6",
        "colab": {
          "base_uri": "https://localhost:8080/",
          "height": 294
        },
        "outputId": "e2fe57cb-2524-4692-a3a3-10f07d349b98"
      },
      "source": [
        "#note that the longitude data is handled properly\n",
        "gdf.describe()"
      ],
      "execution_count": null,
      "outputs": [
        {
          "output_type": "execute_result",
          "data": {
            "text/html": [
              "<div>\n",
              "<style scoped>\n",
              "    .dataframe tbody tr th:only-of-type {\n",
              "        vertical-align: middle;\n",
              "    }\n",
              "\n",
              "    .dataframe tbody tr th {\n",
              "        vertical-align: top;\n",
              "    }\n",
              "\n",
              "    .dataframe thead th {\n",
              "        text-align: right;\n",
              "    }\n",
              "</style>\n",
              "<table border=\"1\" class=\"dataframe\">\n",
              "  <thead>\n",
              "    <tr style=\"text-align: right;\">\n",
              "      <th></th>\n",
              "      <th>latitude</th>\n",
              "      <th>longitude</th>\n",
              "    </tr>\n",
              "  </thead>\n",
              "  <tbody>\n",
              "    <tr>\n",
              "      <th>count</th>\n",
              "      <td>6666.000000</td>\n",
              "      <td>6666.000000</td>\n",
              "    </tr>\n",
              "    <tr>\n",
              "      <th>mean</th>\n",
              "      <td>38.896287</td>\n",
              "      <td>-77.104543</td>\n",
              "    </tr>\n",
              "    <tr>\n",
              "      <th>std</th>\n",
              "      <td>0.016125</td>\n",
              "      <td>0.044326</td>\n",
              "    </tr>\n",
              "    <tr>\n",
              "      <th>min</th>\n",
              "      <td>38.805362</td>\n",
              "      <td>-77.345159</td>\n",
              "    </tr>\n",
              "    <tr>\n",
              "      <th>25%</th>\n",
              "      <td>38.896590</td>\n",
              "      <td>-77.104049</td>\n",
              "    </tr>\n",
              "    <tr>\n",
              "      <th>50%</th>\n",
              "      <td>38.896591</td>\n",
              "      <td>-77.104033</td>\n",
              "    </tr>\n",
              "    <tr>\n",
              "      <th>75%</th>\n",
              "      <td>38.896593</td>\n",
              "      <td>-77.104032</td>\n",
              "    </tr>\n",
              "    <tr>\n",
              "      <th>max</th>\n",
              "      <td>38.977477</td>\n",
              "      <td>-77.014916</td>\n",
              "    </tr>\n",
              "  </tbody>\n",
              "</table>\n",
              "</div>"
            ],
            "text/plain": [
              "          latitude    longitude\n",
              "count  6666.000000  6666.000000\n",
              "mean     38.896287   -77.104543\n",
              "std       0.016125     0.044326\n",
              "min      38.805362   -77.345159\n",
              "25%      38.896590   -77.104049\n",
              "50%      38.896591   -77.104033\n",
              "75%      38.896593   -77.104032\n",
              "max      38.977477   -77.014916"
            ]
          },
          "metadata": {
            "tags": []
          },
          "execution_count": 37
        }
      ]
    },
    {
      "cell_type": "code",
      "metadata": {
        "id": "DVPhvRS-Zvr2"
      },
      "source": [
        "#filter for where it thinks we were on foot\n",
        "gdf = gdf[gdf.act_type == 'ON_FOOT']"
      ],
      "execution_count": null,
      "outputs": []
    },
    {
      "cell_type": "code",
      "metadata": {
        "id": "I0hrgT6_aFaD"
      },
      "source": [
        "#arlington streets\n",
        "path=r'/content/drive/My Drive/Maps/Arlington/34186e0f-82b1-43e6-84be-923d9b41d9a22020316-1-abijaw.x6777.shp'\n",
        "streets = gpd.read_file(path)"
      ],
      "execution_count": null,
      "outputs": []
    },
    {
      "cell_type": "code",
      "metadata": {
        "id": "YOJR7iKpBOsA",
        "colab": {
          "base_uri": "https://localhost:8080/",
          "height": 388
        },
        "outputId": "ab6f4062-7f89-4d6c-d102-a919127b76ed"
      },
      "source": [
        "# Plot the data with a modified spatial extent\n",
        "fig, ax = plt.subplots(figsize = (10,6))\n",
        "\n",
        "xlim = ([streets.total_bounds[0],  streets.total_bounds[2]])\n",
        "ylim = ([streets.total_bounds[1],  streets.total_bounds[3]])\n",
        "\n",
        "ax.set_xlim(xlim)\n",
        "ax.set_ylim(ylim)\n",
        "\n",
        "streets.plot(color='tab:blue',alpha = .5, ax = ax)\n",
        "gdf.plot(color='tab:orange', ax=ax, alpha=.5)\n",
        "\n",
        "ax.set(title='Places We Walked \\n With Arlington Streets')\n",
        "ax.set_axis_off()\n",
        "plt.show()"
      ],
      "execution_count": null,
      "outputs": [
        {
          "output_type": "display_data",
          "data": {
            "image/png": "[encoded data removed]",
            "text/plain": [
              "<Figure size 720x432 with 1 Axes>"
            ]
          },
          "metadata": {
            "tags": [],
            "needs_background": "light"
          }
        }
      ]
    },
    {
      "cell_type": "code",
      "metadata": {
        "id": "ze2KOZu2gtiZ",
        "colab": {
          "base_uri": "https://localhost:8080/",
          "height": 482
        },
        "outputId": "b0063116-c1fc-4045-bffb-b6058f2315f9"
      },
      "source": [
        "streets[streets.STCODE == 'NMNRST'].head()"
      ],
      "execution_count": null,
      "outputs": [
        {
          "output_type": "execute_result",
          "data": {
            "text/html": [
              "<div>\n",
              "<style scoped>\n",
              "    .dataframe tbody tr th:only-of-type {\n",
              "        vertical-align: middle;\n",
              "    }\n",
              "\n",
              "    .dataframe tbody tr th {\n",
              "        vertical-align: top;\n",
              "    }\n",
              "\n",
              "    .dataframe thead th {\n",
              "        text-align: right;\n",
              "    }\n",
              "</style>\n",
              "<table border=\"1\" class=\"dataframe\">\n",
              "  <thead>\n",
              "    <tr style=\"text-align: right;\">\n",
              "      <th></th>\n",
              "      <th>OBJECTID</th>\n",
              "      <th>DATESTAMP</th>\n",
              "      <th>STCODE</th>\n",
              "      <th>STBLOCK</th>\n",
              "      <th>STTYPE</th>\n",
              "      <th>STCLASS</th>\n",
              "      <th>L_F_ADD</th>\n",
              "      <th>R_F_ADD</th>\n",
              "      <th>L_T_ADD</th>\n",
              "      <th>R_T_ADD</th>\n",
              "      <th>PLOWTYPE</th>\n",
              "      <th>SPEEDLIMIT</th>\n",
              "      <th>STRTID</th>\n",
              "      <th>STRTTO</th>\n",
              "      <th>STRTFROM</th>\n",
              "      <th>MAJORROAD</th>\n",
              "      <th>STRTDIRP</th>\n",
              "      <th>STRTNAME</th>\n",
              "      <th>STRTTYPE</th>\n",
              "      <th>STRTDIRS</th>\n",
              "      <th>STNAME</th>\n",
              "      <th>DIVIDED</th>\n",
              "      <th>EVACROUTE</th>\n",
              "      <th>ECC_LF</th>\n",
              "      <th>ECC_LT</th>\n",
              "      <th>ECC_RF</th>\n",
              "      <th>ECC_RT</th>\n",
              "      <th>ECC_STNAME</th>\n",
              "      <th>GIS_ID</th>\n",
              "      <th>ONEWAY</th>\n",
              "      <th>ROUTENUMBE</th>\n",
              "      <th>STRMAP</th>\n",
              "      <th>ROAD_WIDTH</th>\n",
              "      <th>ROAD_WID_1</th>\n",
              "      <th>TruckProhi</th>\n",
              "      <th>Owner</th>\n",
              "      <th>Closed_Sta</th>\n",
              "      <th>SHAPElen</th>\n",
              "      <th>SNOW_EMEG_</th>\n",
              "      <th>AccessStat</th>\n",
              "      <th>MTP_TYPE</th>\n",
              "      <th>geometry</th>\n",
              "    </tr>\n",
              "  </thead>\n",
              "  <tbody>\n",
              "    <tr>\n",
              "      <th>738</th>\n",
              "      <td>739</td>\n",
              "      <td>2001-06-28</td>\n",
              "      <td>NMNRST</td>\n",
              "      <td>0</td>\n",
              "      <td>0</td>\n",
              "      <td>35</td>\n",
              "      <td>0</td>\n",
              "      <td>0</td>\n",
              "      <td>0</td>\n",
              "      <td>0</td>\n",
              "      <td>2</td>\n",
              "      <td>25</td>\n",
              "      <td>7221</td>\n",
              "      <td>N017ST</td>\n",
              "      <td>NLINST</td>\n",
              "      <td>0</td>\n",
              "      <td>N</td>\n",
              "      <td>MONROE</td>\n",
              "      <td>ST</td>\n",
              "      <td>None</td>\n",
              "      <td>N MONROE ST</td>\n",
              "      <td>0</td>\n",
              "      <td>0</td>\n",
              "      <td>0</td>\n",
              "      <td>0</td>\n",
              "      <td>0</td>\n",
              "      <td>0</td>\n",
              "      <td>N MONROE ST</td>\n",
              "      <td>2930</td>\n",
              "      <td>None</td>\n",
              "      <td>NaN</td>\n",
              "      <td>0</td>\n",
              "      <td>35.0</td>\n",
              "      <td>NaN</td>\n",
              "      <td>0</td>\n",
              "      <td>ARL</td>\n",
              "      <td>0</td>\n",
              "      <td>234.899632</td>\n",
              "      <td>NaN</td>\n",
              "      <td>NaN</td>\n",
              "      <td>None</td>\n",
              "      <td>LINESTRING (-8583136.847 4705994.273, -8583145...</td>\n",
              "    </tr>\n",
              "    <tr>\n",
              "      <th>947</th>\n",
              "      <td>948</td>\n",
              "      <td>2009-04-16</td>\n",
              "      <td>NMNRST</td>\n",
              "      <td>800</td>\n",
              "      <td>800</td>\n",
              "      <td>25</td>\n",
              "      <td>800</td>\n",
              "      <td>801</td>\n",
              "      <td>898</td>\n",
              "      <td>899</td>\n",
              "      <td>2</td>\n",
              "      <td>25</td>\n",
              "      <td>722</td>\n",
              "      <td>N009ST</td>\n",
              "      <td>_WSNBLVD</td>\n",
              "      <td>0</td>\n",
              "      <td>N</td>\n",
              "      <td>MONROE</td>\n",
              "      <td>ST</td>\n",
              "      <td>None</td>\n",
              "      <td>N MONROE ST</td>\n",
              "      <td>0</td>\n",
              "      <td>0</td>\n",
              "      <td>800</td>\n",
              "      <td>898</td>\n",
              "      <td>801</td>\n",
              "      <td>899</td>\n",
              "      <td>N MONROE ST</td>\n",
              "      <td>9357</td>\n",
              "      <td>None</td>\n",
              "      <td>NaN</td>\n",
              "      <td>0</td>\n",
              "      <td>44.0</td>\n",
              "      <td>NaN</td>\n",
              "      <td>0</td>\n",
              "      <td>ARL</td>\n",
              "      <td>0</td>\n",
              "      <td>262.662741</td>\n",
              "      <td>NaN</td>\n",
              "      <td>NaN</td>\n",
              "      <td>TYPE B</td>\n",
              "      <td>LINESTRING (-8583034.230 4704775.033, -8583036...</td>\n",
              "    </tr>\n",
              "    <tr>\n",
              "      <th>1039</th>\n",
              "      <td>1040</td>\n",
              "      <td>1996-02-06</td>\n",
              "      <td>NMNRST</td>\n",
              "      <td>1900</td>\n",
              "      <td>1900</td>\n",
              "      <td>35</td>\n",
              "      <td>1900</td>\n",
              "      <td>1901</td>\n",
              "      <td>1998</td>\n",
              "      <td>1999</td>\n",
              "      <td>2</td>\n",
              "      <td>25</td>\n",
              "      <td>829</td>\n",
              "      <td>N020ST</td>\n",
              "      <td>N019ST</td>\n",
              "      <td>0</td>\n",
              "      <td>N</td>\n",
              "      <td>MONROE</td>\n",
              "      <td>ST</td>\n",
              "      <td>None</td>\n",
              "      <td>N MONROE ST</td>\n",
              "      <td>0</td>\n",
              "      <td>0</td>\n",
              "      <td>1900</td>\n",
              "      <td>1998</td>\n",
              "      <td>1901</td>\n",
              "      <td>1999</td>\n",
              "      <td>N MONROE ST</td>\n",
              "      <td>1046</td>\n",
              "      <td>None</td>\n",
              "      <td>NaN</td>\n",
              "      <td>0</td>\n",
              "      <td>24.0</td>\n",
              "      <td>NaN</td>\n",
              "      <td>0</td>\n",
              "      <td>ARL</td>\n",
              "      <td>0</td>\n",
              "      <td>230.439341</td>\n",
              "      <td>NaN</td>\n",
              "      <td>NaN</td>\n",
              "      <td>None</td>\n",
              "      <td>LINESTRING (-8583192.928 4706501.102, -8583195...</td>\n",
              "    </tr>\n",
              "    <tr>\n",
              "      <th>1299</th>\n",
              "      <td>1300</td>\n",
              "      <td>1996-01-18</td>\n",
              "      <td>NMNRST</td>\n",
              "      <td>700</td>\n",
              "      <td>700</td>\n",
              "      <td>35</td>\n",
              "      <td>700</td>\n",
              "      <td>701</td>\n",
              "      <td>718</td>\n",
              "      <td>719</td>\n",
              "      <td>2</td>\n",
              "      <td>25</td>\n",
              "      <td>259</td>\n",
              "      <td>N008ST</td>\n",
              "      <td>N007ST</td>\n",
              "      <td>0</td>\n",
              "      <td>N</td>\n",
              "      <td>MONROE</td>\n",
              "      <td>ST</td>\n",
              "      <td>None</td>\n",
              "      <td>N MONROE ST</td>\n",
              "      <td>0</td>\n",
              "      <td>0</td>\n",
              "      <td>700</td>\n",
              "      <td>718</td>\n",
              "      <td>701</td>\n",
              "      <td>719</td>\n",
              "      <td>N MONROE ST</td>\n",
              "      <td>1447</td>\n",
              "      <td>None</td>\n",
              "      <td>NaN</td>\n",
              "      <td>0</td>\n",
              "      <td>35.0</td>\n",
              "      <td>NaN</td>\n",
              "      <td>0</td>\n",
              "      <td>ARL</td>\n",
              "      <td>0</td>\n",
              "      <td>252.703878</td>\n",
              "      <td>NaN</td>\n",
              "      <td>NaN</td>\n",
              "      <td>None</td>\n",
              "      <td>LINESTRING (-8582935.158 4704525.378, -8582971...</td>\n",
              "    </tr>\n",
              "    <tr>\n",
              "      <th>1883</th>\n",
              "      <td>1884</td>\n",
              "      <td>1996-02-06</td>\n",
              "      <td>NMNRST</td>\n",
              "      <td>1800</td>\n",
              "      <td>1800</td>\n",
              "      <td>35</td>\n",
              "      <td>1800</td>\n",
              "      <td>1801</td>\n",
              "      <td>1898</td>\n",
              "      <td>1899</td>\n",
              "      <td>2</td>\n",
              "      <td>25</td>\n",
              "      <td>825</td>\n",
              "      <td>N019ST</td>\n",
              "      <td>N018ST</td>\n",
              "      <td>0</td>\n",
              "      <td>N</td>\n",
              "      <td>MONROE</td>\n",
              "      <td>ST</td>\n",
              "      <td>None</td>\n",
              "      <td>N MONROE ST</td>\n",
              "      <td>0</td>\n",
              "      <td>0</td>\n",
              "      <td>1800</td>\n",
              "      <td>1898</td>\n",
              "      <td>1801</td>\n",
              "      <td>1899</td>\n",
              "      <td>N MONROE ST</td>\n",
              "      <td>4465</td>\n",
              "      <td>None</td>\n",
              "      <td>NaN</td>\n",
              "      <td>0</td>\n",
              "      <td>25.0</td>\n",
              "      <td>NaN</td>\n",
              "      <td>0</td>\n",
              "      <td>ARL</td>\n",
              "      <td>0</td>\n",
              "      <td>310.405058</td>\n",
              "      <td>NaN</td>\n",
              "      <td>NaN</td>\n",
              "      <td>None</td>\n",
              "      <td>LINESTRING (-8583187.849 4706379.309, -8583192...</td>\n",
              "    </tr>\n",
              "  </tbody>\n",
              "</table>\n",
              "</div>"
            ],
            "text/plain": [
              "      OBJECTID  ...                                           geometry\n",
              "738        739  ...  LINESTRING (-8583136.847 4705994.273, -8583145...\n",
              "947        948  ...  LINESTRING (-8583034.230 4704775.033, -8583036...\n",
              "1039      1040  ...  LINESTRING (-8583192.928 4706501.102, -8583195...\n",
              "1299      1300  ...  LINESTRING (-8582935.158 4704525.378, -8582971...\n",
              "1883      1884  ...  LINESTRING (-8583187.849 4706379.309, -8583192...\n",
              "\n",
              "[5 rows x 42 columns]"
            ]
          },
          "metadata": {
            "tags": []
          },
          "execution_count": 54
        }
      ]
    }
  ]
}